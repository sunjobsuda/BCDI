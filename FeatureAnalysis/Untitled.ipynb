{
 "cells": [
  {
   "cell_type": "code",
   "execution_count": null,
   "metadata": {},
   "outputs": [],
   "source": [
    "#Semi-supervised Learning\n",
    "\n",
    "\n",
    "import numpy as np\n",
    "import pandas as pd\n",
    "import seaborn as sns\n",
    "import matplotlib.pyplot as plt\n",
    "from sklearn.model_selection import train_test_split\n",
    "from sklearn.linear_model import LogisticRegression\n",
    "from sklearn.preprocessing import LabelEncoder\n",
    "from sklearn.metrics import accuracy_score\n",
    "from sklearn.feature_selection import VarianceThreshold\n",
    "import lightgbm as lgb\n",
    "import warnings\n",
    "from sklearn.preprocessing import OneHotEncoder\n",
    "import zipfile\n",
    "from sklearn.model_selection import train_test_split\n",
    "from sklearn.preprocessing import StandardScaler\n",
    "warnings.filterwarnings('ignore')\n",
    "n_splits = 5\n",
    "seed = 35\n",
    "path = 'E:/BDCI Match/'\n",
    "\n",
    "#文件路径\n",
    "traindataFile = path + 'train.csv'\n",
    "testdataFile = path+ 'test.csv'\n",
    "\n",
    "#文件加载\n",
    "train = pd.read_csv(traindataFile)\n",
    "test = pd.read_csv(testdataFile)\n",
    "\n",
    "#current_service为99104722的记录可以剔除，因为service_type=3 <=> current_service=99104722\n",
    "train1 = train.loc[train['service_type']==1]\n",
    "train1 = train1.reset_index()\n",
    "\n",
    "train2 = train.loc[train['service_type']==4]\n",
    "train2 = train2.reset_index()\n",
    "\n",
    "test1 = test.loc[test['service_type']==1]\n",
    "test1 = test1.reset_index()\n",
    "test2 = test.loc[test['service_type']==4]\n",
    "test2 = test2.reset_index()\n",
    "test3 = test.loc[test['service_type']==3]\n",
    "test3 = test3.reset_index()\n",
    "test_id3 = test3['user_id']\n",
    "\n"
   ]
  }
 ],
 "metadata": {
  "kernelspec": {
   "display_name": "Python 3",
   "language": "python",
   "name": "python3"
  },
  "language_info": {
   "codemirror_mode": {
    "name": "ipython",
    "version": 3
   },
   "file_extension": ".py",
   "mimetype": "text/x-python",
   "name": "python",
   "nbconvert_exporter": "python",
   "pygments_lexer": "ipython3",
   "version": "3.6.4"
  }
 },
 "nbformat": 4,
 "nbformat_minor": 2
}
